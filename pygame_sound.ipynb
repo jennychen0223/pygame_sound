{
 "cells": [
  {
   "cell_type": "code",
   "execution_count": 3,
   "metadata": {},
   "outputs": [
    {
     "name": "stdout",
     "output_type": "stream",
     "text": [
      "pygame 2.0.1 (SDL 2.0.14, Python 3.8.10)\n",
      "Hello from the pygame community. https://www.pygame.org/contribute.html\n"
     ]
    }
   ],
   "source": [
    "#import mixer from pygame\n",
    "#initialize mixer\n",
    "from pygame import mixer\n",
    "mixer.init()"
   ]
  },
  {
   "cell_type": "code",
   "execution_count": 7,
   "metadata": {},
   "outputs": [
    {
     "data": {
      "text/plain": [
       "<Channel at 0x7fe93db20a90>"
      ]
     },
     "execution_count": 7,
     "metadata": {},
     "output_type": "execute_result"
    }
   ],
   "source": [
    "#插入音效\n",
    "sound = mixer.Sound(\"wav/hit.wav\")\n",
    "sound.play(loops=5)"
   ]
  },
  {
   "cell_type": "code",
   "execution_count": 14,
   "metadata": {},
   "outputs": [],
   "source": [
    "#status為目前播放的檔案\n",
    "def menu(status):\n",
    "    os.system(\"cls\")\n",
    "    print(\"wav 播放器 {}\".format(status))\n",
    "    print(\"--------------------------------------\")\n",
    "    print(\"1.播  放\")\n",
    "    print(\"2.上一首\")\n",
    "    print(\"3.下一首\")\n",
    "    print(\"4.停止播放\")\n",
    "    print(\"0.結束程式\")\n",
    "    print(\"--------------------------------------\")\n",
    "    \n",
    "#播放音效檔一次，並顯示正在播放的檔名\n",
    "def playwav(song):\n",
    "    global status,sound\n",
    "    sound = mixer.Sound(song)\n",
    "    sound.play(loops = 0)\n",
    "    status=\"正在播放 {}\".format(song)            \n",
    "\n",
    "#停止目前的音效，重新載入音效播放\n",
    "def playNewwav(song):\n",
    "    global status,sound\n",
    "    sound.stop\n",
    "    sound = mixer.Sound(song)\n",
    "    sound.play(loops = 0)\n",
    "    status=\"正在播放 {}\".format(song)  "
   ]
  },
  {
   "cell_type": "code",
   "execution_count": 15,
   "metadata": {
    "scrolled": true
   },
   "outputs": [
    {
     "name": "stdout",
     "output_type": "stream",
     "text": [
      "wav 播放器 \n",
      "--------------------------------------\n",
      "1.播  放\n",
      "2.上一首\n",
      "3.下一首\n",
      "4.停止播放\n",
      "0.結束程式\n",
      "--------------------------------------\n",
      "請輸入您的選擇：1\n",
      "wav 播放器 正在播放 wav/lose.wav\n",
      "--------------------------------------\n",
      "1.播  放\n",
      "2.上一首\n",
      "3.下一首\n",
      "4.停止播放\n",
      "0.結束程式\n",
      "--------------------------------------\n",
      "請輸入您的選擇：3\n",
      "wav 播放器 正在播放 wav/cheers.wav\n",
      "--------------------------------------\n",
      "1.播  放\n",
      "2.上一首\n",
      "3.下一首\n",
      "4.停止播放\n",
      "0.結束程式\n",
      "--------------------------------------\n",
      "請輸入您的選擇：3\n",
      "wav 播放器 正在播放 wav/tida.wav\n",
      "--------------------------------------\n",
      "1.播  放\n",
      "2.上一首\n",
      "3.下一首\n",
      "4.停止播放\n",
      "0.結束程式\n",
      "--------------------------------------\n",
      "請輸入您的選擇：4\n",
      "wav 播放器 停止播放\n",
      "--------------------------------------\n",
      "1.播  放\n",
      "2.上一首\n",
      "3.下一首\n",
      "4.停止播放\n",
      "0.結束程式\n",
      "--------------------------------------\n",
      "請輸入您的選擇：3\n",
      "wav 播放器 正在播放 wav/hit.wav\n",
      "--------------------------------------\n",
      "1.播  放\n",
      "2.上一首\n",
      "3.下一首\n",
      "4.停止播放\n",
      "0.結束程式\n",
      "--------------------------------------\n",
      "請輸入您的選擇：3\n",
      "wav 播放器 正在播放 wav/beep.wav\n",
      "--------------------------------------\n",
      "1.播  放\n",
      "2.上一首\n",
      "3.下一首\n",
      "4.停止播放\n",
      "0.結束程式\n",
      "--------------------------------------\n",
      "請輸入您的選擇：3\n",
      "wav 播放器 正在播放 wav/lose.wav\n",
      "--------------------------------------\n",
      "1.播  放\n",
      "2.上一首\n",
      "3.下一首\n",
      "4.停止播放\n",
      "0.結束程式\n",
      "--------------------------------------\n",
      "請輸入您的選擇：0\n",
      "程式執行完畢！\n"
     ]
    }
   ],
   "source": [
    "#主程式\n",
    "    \n",
    "from pygame import mixer\n",
    "import glob,os\n",
    "mixer.init()\n",
    "\n",
    "source_dir = \"wav/\"\n",
    "wavfiles = glob.glob(source_dir + \"*.wav\")\n",
    "index=0\n",
    "status=\"\"\n",
    "sound = mixer.Sound(wavfiles[index])\n",
    "\n",
    "while True:\n",
    "    menu(status)\n",
    "    choice = int(input(\"請輸入您的選擇：\"))\n",
    "    \n",
    "    if choice == 1:\n",
    "        playwav(wavfiles[index])\n",
    "                    \n",
    "    elif choice == 2:\n",
    "        index += 1\n",
    "        if index == len(wavfiles):\n",
    "            index = 0\n",
    "        playNewwav(wavfiles[index])\n",
    "                    \n",
    "    elif choice == 3:\n",
    "        index -= 1\n",
    "        if index < 0:\n",
    "            index = len(wavfiles)-1\n",
    "        playNewwav(wavfiles[index])\n",
    "    elif choice == 4:\n",
    "        sound.stop()\n",
    "        status = \"停止播放\"\n",
    "    else:\n",
    "        break\n",
    "            \n",
    "sound.stop()\n",
    "print(\"程式執行完畢！\")"
   ]
  },
  {
   "cell_type": "code",
   "execution_count": null,
   "metadata": {},
   "outputs": [],
   "source": []
  }
 ],
 "metadata": {
  "kernelspec": {
   "display_name": "Python 3",
   "language": "python",
   "name": "python3"
  },
  "language_info": {
   "codemirror_mode": {
    "name": "ipython",
    "version": 3
   },
   "file_extension": ".py",
   "mimetype": "text/x-python",
   "name": "python",
   "nbconvert_exporter": "python",
   "pygments_lexer": "ipython3",
   "version": "3.8.10"
  }
 },
 "nbformat": 4,
 "nbformat_minor": 4
}
